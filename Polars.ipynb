{
 "cells": [
  {
   "cell_type": "markdown",
   "id": "23e86cf0-3001-44df-8c1c-b3eb3e54a69f",
   "metadata": {},
   "source": [
    "# Polars"
   ]
  },
  {
   "cell_type": "code",
   "execution_count": 1,
   "id": "70d5f7a2-8a24-4b6d-a7dc-cd54589f5d54",
   "metadata": {},
   "outputs": [
    {
     "name": "stdout",
     "output_type": "stream",
     "text": [
      "Requirement already satisfied: polars==1.22.0 in /opt/conda/lib/python3.12/site-packages (1.22.0)\n"
     ]
    }
   ],
   "source": [
    "!pip install polars==1.22.0"
   ]
  },
  {
   "cell_type": "code",
   "execution_count": 2,
   "id": "f05f407d-a804-4763-a871-b9241b748202",
   "metadata": {},
   "outputs": [],
   "source": [
    "import polars as pl\n",
    "import time\n",
    "from datetime import date\n",
    "import statistics"
   ]
  },
  {
   "cell_type": "code",
   "execution_count": 3,
   "id": "d5c1a9d3-831d-4d99-80f0-affd4c646f65",
   "metadata": {},
   "outputs": [
    {
     "name": "stdout",
     "output_type": "stream",
     "text": [
      "Requirement already satisfied: pandas==2.2.3 in /opt/conda/lib/python3.12/site-packages (2.2.3)\n",
      "Requirement already satisfied: numpy>=1.26.0 in /opt/conda/lib/python3.12/site-packages (from pandas==2.2.3) (2.2.2)\n",
      "Requirement already satisfied: python-dateutil>=2.8.2 in /opt/conda/lib/python3.12/site-packages (from pandas==2.2.3) (2.9.0.post0)\n",
      "Requirement already satisfied: pytz>=2020.1 in /opt/conda/lib/python3.12/site-packages (from pandas==2.2.3) (2025.1)\n",
      "Requirement already satisfied: tzdata>=2022.7 in /opt/conda/lib/python3.12/site-packages (from pandas==2.2.3) (2025.1)\n",
      "Requirement already satisfied: six>=1.5 in /opt/conda/lib/python3.12/site-packages (from python-dateutil>=2.8.2->pandas==2.2.3) (1.17.0)\n"
     ]
    }
   ],
   "source": [
    "%run utilities.ipynb"
   ]
  },
  {
   "cell_type": "markdown",
   "id": "bf5800d3-e983-4a25-b7da-f9f298ddb298",
   "metadata": {},
   "source": [
    "## Reading File"
   ]
  },
  {
   "cell_type": "code",
   "execution_count": 4,
   "id": "66381f20-e855-45a5-9e7b-3c816e586f55",
   "metadata": {},
   "outputs": [
    {
     "name": "stdout",
     "output_type": "stream",
     "text": [
      "--- 19.296343088150024 seconds ---\n"
     ]
    }
   ],
   "source": [
    "total_read = []\n",
    "for i in range(REPETITIONS): \n",
    "    start_time = time.time()\n",
    "    df = pl.read_csv(\"Imdb Movie Dataset.csv\")\n",
    "    time_reading_file = time.time() - start_time\n",
    "    total_read.append(time_reading_file)\n",
    "print(\"--- %s seconds ---\" % sum(total_read))"
   ]
  },
  {
   "cell_type": "code",
   "execution_count": 5,
   "id": "9ef8b88c-39cf-4521-8c17-54facb255528",
   "metadata": {},
   "outputs": [
    {
     "data": {
      "text/html": [
       "<div><style>\n",
       ".dataframe > thead > tr,\n",
       ".dataframe > tbody > tr {\n",
       "  text-align: right;\n",
       "  white-space: pre-wrap;\n",
       "}\n",
       "</style>\n",
       "<small>shape: (1_048_575, 21)</small><table border=\"1\" class=\"dataframe\"><thead><tr><th>id</th><th>title</th><th>vote_average</th><th>vote_count</th><th>status</th><th>release_date</th><th>revenue</th><th>runtime</th><th>adult</th><th>budget</th><th>imdb_id</th><th>original_language</th><th>original_title</th><th>overview</th><th>popularity</th><th>tagline</th><th>genres</th><th>production_companies</th><th>production_countries</th><th>spoken_languages</th><th>keywords</th></tr><tr><td>i64</td><td>str</td><td>f64</td><td>i64</td><td>str</td><td>str</td><td>i64</td><td>i64</td><td>bool</td><td>i64</td><td>str</td><td>str</td><td>str</td><td>str</td><td>f64</td><td>str</td><td>str</td><td>str</td><td>str</td><td>str</td><td>str</td></tr></thead><tbody><tr><td>27205</td><td>&quot;Inception&quot;</td><td>8.364</td><td>34495</td><td>&quot;Released&quot;</td><td>&quot;7/15/2010&quot;</td><td>825532764</td><td>148</td><td>false</td><td>160000000</td><td>&quot;tt1375666&quot;</td><td>&quot;en&quot;</td><td>&quot;Inception&quot;</td><td>&quot;Cobb, a skilled thief who comm…</td><td>83.952</td><td>&quot;Your mind is the scene of the …</td><td>&quot;Action, Science Fiction, Adven…</td><td>&quot;Legendary Pictures, Syncopy, W…</td><td>&quot;United Kingdom, United States …</td><td>&quot;English, French, Japanese, Swa…</td><td>&quot;rescue, mission, dream, airpla…</td></tr><tr><td>157336</td><td>&quot;Interstellar&quot;</td><td>8.417</td><td>32571</td><td>&quot;Released&quot;</td><td>&quot;11/5/2014&quot;</td><td>701729206</td><td>169</td><td>false</td><td>165000000</td><td>&quot;tt0816692&quot;</td><td>&quot;en&quot;</td><td>&quot;Interstellar&quot;</td><td>&quot;The adventures of a group of e…</td><td>140.241</td><td>&quot;Mankind was born on Earth. It …</td><td>&quot;Adventure, Drama, Science Fict…</td><td>&quot;Legendary Pictures, Syncopy, L…</td><td>&quot;United Kingdom, United States …</td><td>&quot;English&quot;</td><td>&quot;rescue, future, spacecraft, ra…</td></tr><tr><td>155</td><td>&quot;The Dark Knight&quot;</td><td>8.512</td><td>30619</td><td>&quot;Released&quot;</td><td>&quot;7/16/2008&quot;</td><td>1004558444</td><td>152</td><td>false</td><td>185000000</td><td>&quot;tt0468569&quot;</td><td>&quot;en&quot;</td><td>&quot;The Dark Knight&quot;</td><td>&quot;Batman raises the stakes in hi…</td><td>130.643</td><td>&quot;Welcome to a world without rul…</td><td>&quot;Drama, Action, Crime, Thriller&quot;</td><td>&quot;DC Comics, Legendary Pictures,…</td><td>&quot;United Kingdom, United States …</td><td>&quot;English, Mandarin&quot;</td><td>&quot;joker, sadism, chaos, secret i…</td></tr><tr><td>19995</td><td>&quot;Avatar&quot;</td><td>7.573</td><td>29815</td><td>&quot;Released&quot;</td><td>&quot;12/15/2009&quot;</td><td>2923706026</td><td>162</td><td>false</td><td>237000000</td><td>&quot;tt0499549&quot;</td><td>&quot;en&quot;</td><td>&quot;Avatar&quot;</td><td>&quot;In the 22nd century, a paraple…</td><td>79.932</td><td>&quot;Enter the world of Pandora.&quot;</td><td>&quot;Action, Adventure, Fantasy, Sc…</td><td>&quot;Dune Entertainment, Lightstorm…</td><td>&quot;United States of America, Unit…</td><td>&quot;English, Spanish&quot;</td><td>&quot;future, society, culture clash…</td></tr><tr><td>24428</td><td>&quot;The Avengers&quot;</td><td>7.71</td><td>29166</td><td>&quot;Released&quot;</td><td>&quot;4/25/2012&quot;</td><td>1518815515</td><td>143</td><td>false</td><td>220000000</td><td>&quot;tt0848228&quot;</td><td>&quot;en&quot;</td><td>&quot;The Avengers&quot;</td><td>&quot;When an unexpected enemy emerg…</td><td>98.082</td><td>&quot;Some assembly required.&quot;</td><td>&quot;Science Fiction, Action, Adven…</td><td>&quot;Marvel Studios&quot;</td><td>&quot;United States of America&quot;</td><td>&quot;English, Hindi, Russian&quot;</td><td>&quot;new york city, superhero, shie…</td></tr><tr><td>&hellip;</td><td>&hellip;</td><td>&hellip;</td><td>&hellip;</td><td>&hellip;</td><td>&hellip;</td><td>&hellip;</td><td>&hellip;</td><td>&hellip;</td><td>&hellip;</td><td>&hellip;</td><td>&hellip;</td><td>&hellip;</td><td>&hellip;</td><td>&hellip;</td><td>&hellip;</td><td>&hellip;</td><td>&hellip;</td><td>&hellip;</td><td>&hellip;</td><td>&hellip;</td></tr><tr><td>905156</td><td>&quot;鐨勯鏍肩殑椋庢牸儇妒呢蛹刹偎头&quot;</td><td>0.0</td><td>0</td><td>&quot;Released&quot;</td><td>null</td><td>0</td><td>0</td><td>false</td><td>0</td><td>null</td><td>&quot;zh&quot;</td><td>&quot;鐨勯鏍肩殑椋庢牸儇妒呢蛹刹偎头&quot;</td><td>null</td><td>0.6</td><td>null</td><td>null</td><td>null</td><td>null</td><td>null</td><td>null</td></tr><tr><td>905157</td><td>&quot;MILF &amp; Cookies 3&quot;</td><td>0.0</td><td>0</td><td>&quot;Released&quot;</td><td>null</td><td>0</td><td>0</td><td>true</td><td>0</td><td>null</td><td>&quot;en&quot;</td><td>&quot;MILF &amp; Cookies 3&quot;</td><td>null</td><td>0.6</td><td>null</td><td>null</td><td>null</td><td>null</td><td>null</td><td>null</td></tr><tr><td>905158</td><td>&quot;The Choice of Staying&quot;</td><td>0.0</td><td>0</td><td>&quot;Released&quot;</td><td>&quot;10/8/2020&quot;</td><td>0</td><td>0</td><td>false</td><td>0</td><td>&quot;tt13925132&quot;</td><td>&quot;it&quot;</td><td>&quot;The Choice of Staying&quot;</td><td>null</td><td>0.6</td><td>null</td><td>&quot;Documentary&quot;</td><td>null</td><td>null</td><td>&quot;English, Italian, Swedish&quot;</td><td>null</td></tr><tr><td>905161</td><td>&quot;Luisa Schluckt Schon Wieder&quot;</td><td>0.0</td><td>0</td><td>&quot;Released&quot;</td><td>&quot;5/13/2016&quot;</td><td>0</td><td>0</td><td>true</td><td>0</td><td>null</td><td>&quot;de&quot;</td><td>&quot;Luisa Schluckt Schon Wieder&quot;</td><td>null</td><td>0.6</td><td>null</td><td>null</td><td>&quot;John Thompson Productions&quot;</td><td>null</td><td>null</td><td>null</td></tr><tr><td>905163</td><td>&quot;Little White Slave Girls 8&quot;</td><td>0.0</td><td>0</td><td>&quot;Released&quot;</td><td>null</td><td>0</td><td>0</td><td>true</td><td>0</td><td>null</td><td>&quot;en&quot;</td><td>&quot;Little White Slave Girls 8&quot;</td><td>null</td><td>0.6</td><td>null</td><td>null</td><td>null</td><td>null</td><td>null</td><td>null</td></tr></tbody></table></div>"
      ],
      "text/plain": [
       "shape: (1_048_575, 21)\n",
       "┌────────┬────────────┬────────────┬───────────┬───┬───────────┬───────────┬───────────┬───────────┐\n",
       "│ id     ┆ title      ┆ vote_avera ┆ vote_coun ┆ … ┆ productio ┆ productio ┆ spoken_la ┆ keywords  │\n",
       "│ ---    ┆ ---        ┆ ge         ┆ t         ┆   ┆ n_compani ┆ n_countri ┆ nguages   ┆ ---       │\n",
       "│ i64    ┆ str        ┆ ---        ┆ ---       ┆   ┆ es        ┆ es        ┆ ---       ┆ str       │\n",
       "│        ┆            ┆ f64        ┆ i64       ┆   ┆ ---       ┆ ---       ┆ str       ┆           │\n",
       "│        ┆            ┆            ┆           ┆   ┆ str       ┆ str       ┆           ┆           │\n",
       "╞════════╪════════════╪════════════╪═══════════╪═══╪═══════════╪═══════════╪═══════════╪═══════════╡\n",
       "│ 27205  ┆ Inception  ┆ 8.364      ┆ 34495     ┆ … ┆ Legendary ┆ United    ┆ English,  ┆ rescue,   │\n",
       "│        ┆            ┆            ┆           ┆   ┆ Pictures, ┆ Kingdom,  ┆ French,   ┆ mission,  │\n",
       "│        ┆            ┆            ┆           ┆   ┆ Syncopy,  ┆ United    ┆ Japanese, ┆ dream,    │\n",
       "│        ┆            ┆            ┆           ┆   ┆ W…        ┆ States …  ┆ Swa…      ┆ airpla…   │\n",
       "│ 157336 ┆ Interstell ┆ 8.417      ┆ 32571     ┆ … ┆ Legendary ┆ United    ┆ English   ┆ rescue,   │\n",
       "│        ┆ ar         ┆            ┆           ┆   ┆ Pictures, ┆ Kingdom,  ┆           ┆ future,   │\n",
       "│        ┆            ┆            ┆           ┆   ┆ Syncopy,  ┆ United    ┆           ┆ spacecraf │\n",
       "│        ┆            ┆            ┆           ┆   ┆ L…        ┆ States …  ┆           ┆ t, ra…    │\n",
       "│ 155    ┆ The Dark   ┆ 8.512      ┆ 30619     ┆ … ┆ DC        ┆ United    ┆ English,  ┆ joker,    │\n",
       "│        ┆ Knight     ┆            ┆           ┆   ┆ Comics,   ┆ Kingdom,  ┆ Mandarin  ┆ sadism,   │\n",
       "│        ┆            ┆            ┆           ┆   ┆ Legendary ┆ United    ┆           ┆ chaos,    │\n",
       "│        ┆            ┆            ┆           ┆   ┆ Pictures, ┆ States …  ┆           ┆ secret i… │\n",
       "│        ┆            ┆            ┆           ┆   ┆ …         ┆           ┆           ┆           │\n",
       "│ 19995  ┆ Avatar     ┆ 7.573      ┆ 29815     ┆ … ┆ Dune Ente ┆ United    ┆ English,  ┆ future,   │\n",
       "│        ┆            ┆            ┆           ┆   ┆ rtainment ┆ States of ┆ Spanish   ┆ society,  │\n",
       "│        ┆            ┆            ┆           ┆   ┆ , Lightst ┆ America,  ┆           ┆ culture   │\n",
       "│        ┆            ┆            ┆           ┆   ┆ orm…      ┆ Unit…     ┆           ┆ clash…    │\n",
       "│ 24428  ┆ The        ┆ 7.71       ┆ 29166     ┆ … ┆ Marvel    ┆ United    ┆ English,  ┆ new york  │\n",
       "│        ┆ Avengers   ┆            ┆           ┆   ┆ Studios   ┆ States of ┆ Hindi,    ┆ city, sup │\n",
       "│        ┆            ┆            ┆           ┆   ┆           ┆ America   ┆ Russian   ┆ erhero,   │\n",
       "│        ┆            ┆            ┆           ┆   ┆           ┆           ┆           ┆ shie…     │\n",
       "│ …      ┆ …          ┆ …          ┆ …         ┆ … ┆ …         ┆ …         ┆ …         ┆ …         │\n",
       "│ 905156 ┆ 鐨勯鏍肩  ┆ 0.0        ┆ 0         ┆ … ┆ null      ┆ null      ┆ null      ┆ null      │\n",
       "│        ┆ 殑椋庢牸儇 ┆            ┆           ┆   ┆           ┆           ┆           ┆           │\n",
       "│        ┆ 妒呢蛹刹偎 ┆            ┆           ┆   ┆           ┆           ┆           ┆           │\n",
       "│        ┆ 头         ┆            ┆           ┆   ┆           ┆           ┆           ┆           │\n",
       "│ 905157 ┆ MILF &     ┆ 0.0        ┆ 0         ┆ … ┆ null      ┆ null      ┆ null      ┆ null      │\n",
       "│        ┆ Cookies 3  ┆            ┆           ┆   ┆           ┆           ┆           ┆           │\n",
       "│ 905158 ┆ The Choice ┆ 0.0        ┆ 0         ┆ … ┆ null      ┆ null      ┆ English,  ┆ null      │\n",
       "│        ┆ of Staying ┆            ┆           ┆   ┆           ┆           ┆ Italian,  ┆           │\n",
       "│        ┆            ┆            ┆           ┆   ┆           ┆           ┆ Swedish   ┆           │\n",
       "│ 905161 ┆ Luisa      ┆ 0.0        ┆ 0         ┆ … ┆ John      ┆ null      ┆ null      ┆ null      │\n",
       "│        ┆ Schluckt   ┆            ┆           ┆   ┆ Thompson  ┆           ┆           ┆           │\n",
       "│        ┆ Schon      ┆            ┆           ┆   ┆ Productio ┆           ┆           ┆           │\n",
       "│        ┆ Wieder     ┆            ┆           ┆   ┆ ns        ┆           ┆           ┆           │\n",
       "│ 905163 ┆ Little     ┆ 0.0        ┆ 0         ┆ … ┆ null      ┆ null      ┆ null      ┆ null      │\n",
       "│        ┆ White      ┆            ┆           ┆   ┆           ┆           ┆           ┆           │\n",
       "│        ┆ Slave      ┆            ┆           ┆   ┆           ┆           ┆           ┆           │\n",
       "│        ┆ Girls 8    ┆            ┆           ┆   ┆           ┆           ┆           ┆           │\n",
       "└────────┴────────────┴────────────┴───────────┴───┴───────────┴───────────┴───────────┴───────────┘"
      ]
     },
     "execution_count": 5,
     "metadata": {},
     "output_type": "execute_result"
    }
   ],
   "source": [
    "df"
   ]
  },
  {
   "cell_type": "code",
   "execution_count": 6,
   "id": "1d38ea8b-9862-448e-b99d-8925c27ae3b2",
   "metadata": {},
   "outputs": [
    {
     "data": {
      "text/plain": [
       "402900275"
      ]
     },
     "execution_count": 6,
     "metadata": {},
     "output_type": "execute_result"
    }
   ],
   "source": [
    "df.estimated_size()"
   ]
  },
  {
   "cell_type": "markdown",
   "id": "7bf4e0b9-aec0-4ad0-8141-ab9d1563e434",
   "metadata": {},
   "source": [
    "## Cleaning data\n",
    "\n",
    "Things that we are going to remove and measure only once\n",
    "- No release Date and status is released\n",
    "- Runtime 0 or Null\n",
    "- Budget 0. It has to cost something\n",
    "- It has to have a genre"
   ]
  },
  {
   "cell_type": "code",
   "execution_count": 7,
   "id": "ee8f8529-ed40-42cf-86ce-8bf61ef31220",
   "metadata": {},
   "outputs": [],
   "source": [
    "data_cleaned = df.filter(\n",
    "    (~((pl.col(\"status\") == \"Released\") & (pl.col(\"release_date\").is_null()))) &\n",
    "    ((pl.col(\"runtime\") > 0) | (pl.col(\"release_date\").is_not_null())) &\n",
    "    (pl.col(\"runtime\") > 0) &\n",
    "    (pl.col(\"genres\").is_not_null())\n",
    ")"
   ]
  },
  {
   "cell_type": "code",
   "execution_count": 8,
   "id": "1f63a59c-1a37-496e-bb38-a4cbcf0cb242",
   "metadata": {},
   "outputs": [
    {
     "data": {
      "text/html": [
       "<div><style>\n",
       ".dataframe > thead > tr,\n",
       ".dataframe > tbody > tr {\n",
       "  text-align: right;\n",
       "  white-space: pre-wrap;\n",
       "}\n",
       "</style>\n",
       "<small>shape: (488_224, 21)</small><table border=\"1\" class=\"dataframe\"><thead><tr><th>id</th><th>title</th><th>vote_average</th><th>vote_count</th><th>status</th><th>release_date</th><th>revenue</th><th>runtime</th><th>adult</th><th>budget</th><th>imdb_id</th><th>original_language</th><th>original_title</th><th>overview</th><th>popularity</th><th>tagline</th><th>genres</th><th>production_companies</th><th>production_countries</th><th>spoken_languages</th><th>keywords</th></tr><tr><td>i64</td><td>str</td><td>f64</td><td>i64</td><td>str</td><td>str</td><td>i64</td><td>i64</td><td>bool</td><td>i64</td><td>str</td><td>str</td><td>str</td><td>str</td><td>f64</td><td>str</td><td>str</td><td>str</td><td>str</td><td>str</td><td>str</td></tr></thead><tbody><tr><td>27205</td><td>&quot;Inception&quot;</td><td>8.364</td><td>34495</td><td>&quot;Released&quot;</td><td>&quot;7/15/2010&quot;</td><td>825532764</td><td>148</td><td>false</td><td>160000000</td><td>&quot;tt1375666&quot;</td><td>&quot;en&quot;</td><td>&quot;Inception&quot;</td><td>&quot;Cobb, a skilled thief who comm…</td><td>83.952</td><td>&quot;Your mind is the scene of the …</td><td>&quot;Action, Science Fiction, Adven…</td><td>&quot;Legendary Pictures, Syncopy, W…</td><td>&quot;United Kingdom, United States …</td><td>&quot;English, French, Japanese, Swa…</td><td>&quot;rescue, mission, dream, airpla…</td></tr><tr><td>157336</td><td>&quot;Interstellar&quot;</td><td>8.417</td><td>32571</td><td>&quot;Released&quot;</td><td>&quot;11/5/2014&quot;</td><td>701729206</td><td>169</td><td>false</td><td>165000000</td><td>&quot;tt0816692&quot;</td><td>&quot;en&quot;</td><td>&quot;Interstellar&quot;</td><td>&quot;The adventures of a group of e…</td><td>140.241</td><td>&quot;Mankind was born on Earth. It …</td><td>&quot;Adventure, Drama, Science Fict…</td><td>&quot;Legendary Pictures, Syncopy, L…</td><td>&quot;United Kingdom, United States …</td><td>&quot;English&quot;</td><td>&quot;rescue, future, spacecraft, ra…</td></tr><tr><td>155</td><td>&quot;The Dark Knight&quot;</td><td>8.512</td><td>30619</td><td>&quot;Released&quot;</td><td>&quot;7/16/2008&quot;</td><td>1004558444</td><td>152</td><td>false</td><td>185000000</td><td>&quot;tt0468569&quot;</td><td>&quot;en&quot;</td><td>&quot;The Dark Knight&quot;</td><td>&quot;Batman raises the stakes in hi…</td><td>130.643</td><td>&quot;Welcome to a world without rul…</td><td>&quot;Drama, Action, Crime, Thriller&quot;</td><td>&quot;DC Comics, Legendary Pictures,…</td><td>&quot;United Kingdom, United States …</td><td>&quot;English, Mandarin&quot;</td><td>&quot;joker, sadism, chaos, secret i…</td></tr><tr><td>19995</td><td>&quot;Avatar&quot;</td><td>7.573</td><td>29815</td><td>&quot;Released&quot;</td><td>&quot;12/15/2009&quot;</td><td>2923706026</td><td>162</td><td>false</td><td>237000000</td><td>&quot;tt0499549&quot;</td><td>&quot;en&quot;</td><td>&quot;Avatar&quot;</td><td>&quot;In the 22nd century, a paraple…</td><td>79.932</td><td>&quot;Enter the world of Pandora.&quot;</td><td>&quot;Action, Adventure, Fantasy, Sc…</td><td>&quot;Dune Entertainment, Lightstorm…</td><td>&quot;United States of America, Unit…</td><td>&quot;English, Spanish&quot;</td><td>&quot;future, society, culture clash…</td></tr><tr><td>24428</td><td>&quot;The Avengers&quot;</td><td>7.71</td><td>29166</td><td>&quot;Released&quot;</td><td>&quot;4/25/2012&quot;</td><td>1518815515</td><td>143</td><td>false</td><td>220000000</td><td>&quot;tt0848228&quot;</td><td>&quot;en&quot;</td><td>&quot;The Avengers&quot;</td><td>&quot;When an unexpected enemy emerg…</td><td>98.082</td><td>&quot;Some assembly required.&quot;</td><td>&quot;Science Fiction, Action, Adven…</td><td>&quot;Marvel Studios&quot;</td><td>&quot;United States of America&quot;</td><td>&quot;English, Hindi, Russian&quot;</td><td>&quot;new york city, superhero, shie…</td></tr><tr><td>&hellip;</td><td>&hellip;</td><td>&hellip;</td><td>&hellip;</td><td>&hellip;</td><td>&hellip;</td><td>&hellip;</td><td>&hellip;</td><td>&hellip;</td><td>&hellip;</td><td>&hellip;</td><td>&hellip;</td><td>&hellip;</td><td>&hellip;</td><td>&hellip;</td><td>&hellip;</td><td>&hellip;</td><td>&hellip;</td><td>&hellip;</td><td>&hellip;</td><td>&hellip;</td></tr><tr><td>905065</td><td>&quot;Science Please! : Wheel Meets …</td><td>0.0</td><td>0</td><td>&quot;Released&quot;</td><td>&quot;1/1/1998&quot;</td><td>5477</td><td>1</td><td>false</td><td>5477</td><td>&quot;tt0240207&quot;</td><td>&quot;en&quot;</td><td>&quot;Science Please! : Wheel Meets …</td><td>&quot;A clip in the Science Please! …</td><td>0.6</td><td>null</td><td>&quot;Animation&quot;</td><td>&quot;ONF | NFB&quot;</td><td>&quot;Canada&quot;</td><td>&quot;English&quot;</td><td>&quot;big wheel&quot;</td></tr><tr><td>905072</td><td>&quot;Revue Cinema: Reel Communities&quot;</td><td>0.0</td><td>0</td><td>&quot;Released&quot;</td><td>&quot;12/13/2021&quot;</td><td>0</td><td>50</td><td>false</td><td>0</td><td>null</td><td>&quot;en&quot;</td><td>&quot;Revue Cinema: Reel Communities&quot;</td><td>&quot;The Revue Cinema, which opened…</td><td>0.618</td><td>null</td><td>&quot;Documentary&quot;</td><td>&quot;Roy Zheng Studio&quot;</td><td>&quot;Canada&quot;</td><td>&quot;English&quot;</td><td>null</td></tr><tr><td>905074</td><td>&quot;SHIBUYA, TOKYO 16:30&quot;</td><td>0.0</td><td>0</td><td>&quot;Released&quot;</td><td>&quot;4/27/2020&quot;</td><td>0</td><td>15</td><td>false</td><td>0</td><td>null</td><td>&quot;ja&quot;</td><td>&quot;SHIBUYA, TOKYO 16:30&quot;</td><td>&quot;Aoi, an aspiring filmmaker/ass…</td><td>0.6</td><td>null</td><td>&quot;Drama&quot;</td><td>&quot;Rogue Works, Ltd.&quot;</td><td>null</td><td>&quot;Japanese&quot;</td><td>null</td></tr><tr><td>905076</td><td>&quot;The Fraction&quot;</td><td>0.0</td><td>0</td><td>&quot;Released&quot;</td><td>&quot;1/1/1972&quot;</td><td>0</td><td>7</td><td>false</td><td>0</td><td>null</td><td>&quot;uk&quot;</td><td>&quot;Дріб&quot;</td><td>null</td><td>0.6</td><td>null</td><td>&quot;Animation&quot;</td><td>&quot;Kyivnaukfilm&quot;</td><td>&quot;Soviet Union&quot;</td><td>&quot;No Language&quot;</td><td>&quot;short film&quot;</td></tr><tr><td>904911</td><td>&quot;Ginkgo&quot;</td><td>0.0</td><td>0</td><td>&quot;Released&quot;</td><td>&quot;1/1/2019&quot;</td><td>0</td><td>5</td><td>false</td><td>0</td><td>null</td><td>&quot;fr&quot;</td><td>&quot;Ginkgo&quot;</td><td>&quot;A small ball will seek its pla…</td><td>0.6</td><td>null</td><td>&quot;Animation&quot;</td><td>&quot;Ecole Georges Méliès&quot;</td><td>&quot;France&quot;</td><td>&quot;No Language&quot;</td><td>null</td></tr></tbody></table></div>"
      ],
      "text/plain": [
       "shape: (488_224, 21)\n",
       "┌────────┬────────────┬────────────┬───────────┬───┬───────────┬───────────┬───────────┬───────────┐\n",
       "│ id     ┆ title      ┆ vote_avera ┆ vote_coun ┆ … ┆ productio ┆ productio ┆ spoken_la ┆ keywords  │\n",
       "│ ---    ┆ ---        ┆ ge         ┆ t         ┆   ┆ n_compani ┆ n_countri ┆ nguages   ┆ ---       │\n",
       "│ i64    ┆ str        ┆ ---        ┆ ---       ┆   ┆ es        ┆ es        ┆ ---       ┆ str       │\n",
       "│        ┆            ┆ f64        ┆ i64       ┆   ┆ ---       ┆ ---       ┆ str       ┆           │\n",
       "│        ┆            ┆            ┆           ┆   ┆ str       ┆ str       ┆           ┆           │\n",
       "╞════════╪════════════╪════════════╪═══════════╪═══╪═══════════╪═══════════╪═══════════╪═══════════╡\n",
       "│ 27205  ┆ Inception  ┆ 8.364      ┆ 34495     ┆ … ┆ Legendary ┆ United    ┆ English,  ┆ rescue,   │\n",
       "│        ┆            ┆            ┆           ┆   ┆ Pictures, ┆ Kingdom,  ┆ French,   ┆ mission,  │\n",
       "│        ┆            ┆            ┆           ┆   ┆ Syncopy,  ┆ United    ┆ Japanese, ┆ dream,    │\n",
       "│        ┆            ┆            ┆           ┆   ┆ W…        ┆ States …  ┆ Swa…      ┆ airpla…   │\n",
       "│ 157336 ┆ Interstell ┆ 8.417      ┆ 32571     ┆ … ┆ Legendary ┆ United    ┆ English   ┆ rescue,   │\n",
       "│        ┆ ar         ┆            ┆           ┆   ┆ Pictures, ┆ Kingdom,  ┆           ┆ future,   │\n",
       "│        ┆            ┆            ┆           ┆   ┆ Syncopy,  ┆ United    ┆           ┆ spacecraf │\n",
       "│        ┆            ┆            ┆           ┆   ┆ L…        ┆ States …  ┆           ┆ t, ra…    │\n",
       "│ 155    ┆ The Dark   ┆ 8.512      ┆ 30619     ┆ … ┆ DC        ┆ United    ┆ English,  ┆ joker,    │\n",
       "│        ┆ Knight     ┆            ┆           ┆   ┆ Comics,   ┆ Kingdom,  ┆ Mandarin  ┆ sadism,   │\n",
       "│        ┆            ┆            ┆           ┆   ┆ Legendary ┆ United    ┆           ┆ chaos,    │\n",
       "│        ┆            ┆            ┆           ┆   ┆ Pictures, ┆ States …  ┆           ┆ secret i… │\n",
       "│        ┆            ┆            ┆           ┆   ┆ …         ┆           ┆           ┆           │\n",
       "│ 19995  ┆ Avatar     ┆ 7.573      ┆ 29815     ┆ … ┆ Dune Ente ┆ United    ┆ English,  ┆ future,   │\n",
       "│        ┆            ┆            ┆           ┆   ┆ rtainment ┆ States of ┆ Spanish   ┆ society,  │\n",
       "│        ┆            ┆            ┆           ┆   ┆ , Lightst ┆ America,  ┆           ┆ culture   │\n",
       "│        ┆            ┆            ┆           ┆   ┆ orm…      ┆ Unit…     ┆           ┆ clash…    │\n",
       "│ 24428  ┆ The        ┆ 7.71       ┆ 29166     ┆ … ┆ Marvel    ┆ United    ┆ English,  ┆ new york  │\n",
       "│        ┆ Avengers   ┆            ┆           ┆   ┆ Studios   ┆ States of ┆ Hindi,    ┆ city, sup │\n",
       "│        ┆            ┆            ┆           ┆   ┆           ┆ America   ┆ Russian   ┆ erhero,   │\n",
       "│        ┆            ┆            ┆           ┆   ┆           ┆           ┆           ┆ shie…     │\n",
       "│ …      ┆ …          ┆ …          ┆ …         ┆ … ┆ …         ┆ …         ┆ …         ┆ …         │\n",
       "│ 905065 ┆ Science    ┆ 0.0        ┆ 0         ┆ … ┆ ONF | NFB ┆ Canada    ┆ English   ┆ big wheel │\n",
       "│        ┆ Please! :  ┆            ┆           ┆   ┆           ┆           ┆           ┆           │\n",
       "│        ┆ Wheel      ┆            ┆           ┆   ┆           ┆           ┆           ┆           │\n",
       "│        ┆ Meets …    ┆            ┆           ┆   ┆           ┆           ┆           ┆           │\n",
       "│ 905072 ┆ Revue      ┆ 0.0        ┆ 0         ┆ … ┆ Roy Zheng ┆ Canada    ┆ English   ┆ null      │\n",
       "│        ┆ Cinema:    ┆            ┆           ┆   ┆ Studio    ┆           ┆           ┆           │\n",
       "│        ┆ Reel Commu ┆            ┆           ┆   ┆           ┆           ┆           ┆           │\n",
       "│        ┆ nities     ┆            ┆           ┆   ┆           ┆           ┆           ┆           │\n",
       "│ 905074 ┆ SHIBUYA,   ┆ 0.0        ┆ 0         ┆ … ┆ Rogue     ┆ null      ┆ Japanese  ┆ null      │\n",
       "│        ┆ TOKYO      ┆            ┆           ┆   ┆ Works,    ┆           ┆           ┆           │\n",
       "│        ┆ 16:30      ┆            ┆           ┆   ┆ Ltd.      ┆           ┆           ┆           │\n",
       "│ 905076 ┆ The        ┆ 0.0        ┆ 0         ┆ … ┆ Kyivnaukf ┆ Soviet    ┆ No        ┆ short     │\n",
       "│        ┆ Fraction   ┆            ┆           ┆   ┆ ilm       ┆ Union     ┆ Language  ┆ film      │\n",
       "│ 904911 ┆ Ginkgo     ┆ 0.0        ┆ 0         ┆ … ┆ Ecole     ┆ France    ┆ No        ┆ null      │\n",
       "│        ┆            ┆            ┆           ┆   ┆ Georges   ┆           ┆ Language  ┆           │\n",
       "│        ┆            ┆            ┆           ┆   ┆ Méliès    ┆           ┆           ┆           │\n",
       "└────────┴────────────┴────────────┴───────────┴───┴───────────┴───────────┴───────────┴───────────┘"
      ]
     },
     "execution_count": 8,
     "metadata": {},
     "output_type": "execute_result"
    }
   ],
   "source": [
    "data_cleaned"
   ]
  },
  {
   "cell_type": "markdown",
   "id": "95cf467e-fdf3-421c-acfb-20e362fa80c9",
   "metadata": {},
   "source": [
    "## Select"
   ]
  },
  {
   "cell_type": "code",
   "execution_count": 9,
   "id": "fae48473-355f-419a-a613-924545a1305b",
   "metadata": {},
   "outputs": [
    {
     "name": "stdout",
     "output_type": "stream",
     "text": [
      "--- 0.0037229061126708984 seconds ---\n"
     ]
    }
   ],
   "source": [
    "total_select = []\n",
    "for i in range(REPETITIONS): \n",
    "    start_time = time.time()\n",
    "    data_cleaned = data_cleaned.select([pl.col(c) for c in data_cleaned.columns if c not in [\n",
    "    \"overview\", \"tagline\",\"genres\", \"production_companies\",\"production_countries\",\"spoken_languages\", \"keywords\"]\n",
    "                                   ])\n",
    "    time_select = time.time() - start_time\n",
    "    total_select.append(time_select)\n",
    "print(\"--- %s seconds ---\" % sum(total_select))"
   ]
  },
  {
   "cell_type": "code",
   "execution_count": 10,
   "id": "2bf654d2-385b-4807-97fb-30f1ee248af5",
   "metadata": {},
   "outputs": [
    {
     "data": {
      "text/html": [
       "<div><style>\n",
       ".dataframe > thead > tr,\n",
       ".dataframe > tbody > tr {\n",
       "  text-align: right;\n",
       "  white-space: pre-wrap;\n",
       "}\n",
       "</style>\n",
       "<small>shape: (488_224, 14)</small><table border=\"1\" class=\"dataframe\"><thead><tr><th>id</th><th>title</th><th>vote_average</th><th>vote_count</th><th>status</th><th>release_date</th><th>revenue</th><th>runtime</th><th>adult</th><th>budget</th><th>imdb_id</th><th>original_language</th><th>original_title</th><th>popularity</th></tr><tr><td>i64</td><td>str</td><td>f64</td><td>i64</td><td>str</td><td>str</td><td>i64</td><td>i64</td><td>bool</td><td>i64</td><td>str</td><td>str</td><td>str</td><td>f64</td></tr></thead><tbody><tr><td>27205</td><td>&quot;Inception&quot;</td><td>8.364</td><td>34495</td><td>&quot;Released&quot;</td><td>&quot;7/15/2010&quot;</td><td>825532764</td><td>148</td><td>false</td><td>160000000</td><td>&quot;tt1375666&quot;</td><td>&quot;en&quot;</td><td>&quot;Inception&quot;</td><td>83.952</td></tr><tr><td>157336</td><td>&quot;Interstellar&quot;</td><td>8.417</td><td>32571</td><td>&quot;Released&quot;</td><td>&quot;11/5/2014&quot;</td><td>701729206</td><td>169</td><td>false</td><td>165000000</td><td>&quot;tt0816692&quot;</td><td>&quot;en&quot;</td><td>&quot;Interstellar&quot;</td><td>140.241</td></tr><tr><td>155</td><td>&quot;The Dark Knight&quot;</td><td>8.512</td><td>30619</td><td>&quot;Released&quot;</td><td>&quot;7/16/2008&quot;</td><td>1004558444</td><td>152</td><td>false</td><td>185000000</td><td>&quot;tt0468569&quot;</td><td>&quot;en&quot;</td><td>&quot;The Dark Knight&quot;</td><td>130.643</td></tr><tr><td>19995</td><td>&quot;Avatar&quot;</td><td>7.573</td><td>29815</td><td>&quot;Released&quot;</td><td>&quot;12/15/2009&quot;</td><td>2923706026</td><td>162</td><td>false</td><td>237000000</td><td>&quot;tt0499549&quot;</td><td>&quot;en&quot;</td><td>&quot;Avatar&quot;</td><td>79.932</td></tr><tr><td>24428</td><td>&quot;The Avengers&quot;</td><td>7.71</td><td>29166</td><td>&quot;Released&quot;</td><td>&quot;4/25/2012&quot;</td><td>1518815515</td><td>143</td><td>false</td><td>220000000</td><td>&quot;tt0848228&quot;</td><td>&quot;en&quot;</td><td>&quot;The Avengers&quot;</td><td>98.082</td></tr><tr><td>&hellip;</td><td>&hellip;</td><td>&hellip;</td><td>&hellip;</td><td>&hellip;</td><td>&hellip;</td><td>&hellip;</td><td>&hellip;</td><td>&hellip;</td><td>&hellip;</td><td>&hellip;</td><td>&hellip;</td><td>&hellip;</td><td>&hellip;</td></tr><tr><td>905065</td><td>&quot;Science Please! : Wheel Meets …</td><td>0.0</td><td>0</td><td>&quot;Released&quot;</td><td>&quot;1/1/1998&quot;</td><td>5477</td><td>1</td><td>false</td><td>5477</td><td>&quot;tt0240207&quot;</td><td>&quot;en&quot;</td><td>&quot;Science Please! : Wheel Meets …</td><td>0.6</td></tr><tr><td>905072</td><td>&quot;Revue Cinema: Reel Communities&quot;</td><td>0.0</td><td>0</td><td>&quot;Released&quot;</td><td>&quot;12/13/2021&quot;</td><td>0</td><td>50</td><td>false</td><td>0</td><td>null</td><td>&quot;en&quot;</td><td>&quot;Revue Cinema: Reel Communities&quot;</td><td>0.618</td></tr><tr><td>905074</td><td>&quot;SHIBUYA, TOKYO 16:30&quot;</td><td>0.0</td><td>0</td><td>&quot;Released&quot;</td><td>&quot;4/27/2020&quot;</td><td>0</td><td>15</td><td>false</td><td>0</td><td>null</td><td>&quot;ja&quot;</td><td>&quot;SHIBUYA, TOKYO 16:30&quot;</td><td>0.6</td></tr><tr><td>905076</td><td>&quot;The Fraction&quot;</td><td>0.0</td><td>0</td><td>&quot;Released&quot;</td><td>&quot;1/1/1972&quot;</td><td>0</td><td>7</td><td>false</td><td>0</td><td>null</td><td>&quot;uk&quot;</td><td>&quot;Дріб&quot;</td><td>0.6</td></tr><tr><td>904911</td><td>&quot;Ginkgo&quot;</td><td>0.0</td><td>0</td><td>&quot;Released&quot;</td><td>&quot;1/1/2019&quot;</td><td>0</td><td>5</td><td>false</td><td>0</td><td>null</td><td>&quot;fr&quot;</td><td>&quot;Ginkgo&quot;</td><td>0.6</td></tr></tbody></table></div>"
      ],
      "text/plain": [
       "shape: (488_224, 14)\n",
       "┌────────┬────────────┬────────────┬───────────┬───┬───────────┬───────────┬───────────┬───────────┐\n",
       "│ id     ┆ title      ┆ vote_avera ┆ vote_coun ┆ … ┆ imdb_id   ┆ original_ ┆ original_ ┆ popularit │\n",
       "│ ---    ┆ ---        ┆ ge         ┆ t         ┆   ┆ ---       ┆ language  ┆ title     ┆ y         │\n",
       "│ i64    ┆ str        ┆ ---        ┆ ---       ┆   ┆ str       ┆ ---       ┆ ---       ┆ ---       │\n",
       "│        ┆            ┆ f64        ┆ i64       ┆   ┆           ┆ str       ┆ str       ┆ f64       │\n",
       "╞════════╪════════════╪════════════╪═══════════╪═══╪═══════════╪═══════════╪═══════════╪═══════════╡\n",
       "│ 27205  ┆ Inception  ┆ 8.364      ┆ 34495     ┆ … ┆ tt1375666 ┆ en        ┆ Inception ┆ 83.952    │\n",
       "│ 157336 ┆ Interstell ┆ 8.417      ┆ 32571     ┆ … ┆ tt0816692 ┆ en        ┆ Interstel ┆ 140.241   │\n",
       "│        ┆ ar         ┆            ┆           ┆   ┆           ┆           ┆ lar       ┆           │\n",
       "│ 155    ┆ The Dark   ┆ 8.512      ┆ 30619     ┆ … ┆ tt0468569 ┆ en        ┆ The Dark  ┆ 130.643   │\n",
       "│        ┆ Knight     ┆            ┆           ┆   ┆           ┆           ┆ Knight    ┆           │\n",
       "│ 19995  ┆ Avatar     ┆ 7.573      ┆ 29815     ┆ … ┆ tt0499549 ┆ en        ┆ Avatar    ┆ 79.932    │\n",
       "│ 24428  ┆ The        ┆ 7.71       ┆ 29166     ┆ … ┆ tt0848228 ┆ en        ┆ The       ┆ 98.082    │\n",
       "│        ┆ Avengers   ┆            ┆           ┆   ┆           ┆           ┆ Avengers  ┆           │\n",
       "│ …      ┆ …          ┆ …          ┆ …         ┆ … ┆ …         ┆ …         ┆ …         ┆ …         │\n",
       "│ 905065 ┆ Science    ┆ 0.0        ┆ 0         ┆ … ┆ tt0240207 ┆ en        ┆ Science   ┆ 0.6       │\n",
       "│        ┆ Please! :  ┆            ┆           ┆   ┆           ┆           ┆ Please! : ┆           │\n",
       "│        ┆ Wheel      ┆            ┆           ┆   ┆           ┆           ┆ Wheel     ┆           │\n",
       "│        ┆ Meets …    ┆            ┆           ┆   ┆           ┆           ┆ Meets …   ┆           │\n",
       "│ 905072 ┆ Revue      ┆ 0.0        ┆ 0         ┆ … ┆ null      ┆ en        ┆ Revue     ┆ 0.618     │\n",
       "│        ┆ Cinema:    ┆            ┆           ┆   ┆           ┆           ┆ Cinema:   ┆           │\n",
       "│        ┆ Reel Commu ┆            ┆           ┆   ┆           ┆           ┆ Reel Comm ┆           │\n",
       "│        ┆ nities     ┆            ┆           ┆   ┆           ┆           ┆ unities   ┆           │\n",
       "│ 905074 ┆ SHIBUYA,   ┆ 0.0        ┆ 0         ┆ … ┆ null      ┆ ja        ┆ SHIBUYA,  ┆ 0.6       │\n",
       "│        ┆ TOKYO      ┆            ┆           ┆   ┆           ┆           ┆ TOKYO     ┆           │\n",
       "│        ┆ 16:30      ┆            ┆           ┆   ┆           ┆           ┆ 16:30     ┆           │\n",
       "│ 905076 ┆ The        ┆ 0.0        ┆ 0         ┆ … ┆ null      ┆ uk        ┆ Дріб      ┆ 0.6       │\n",
       "│        ┆ Fraction   ┆            ┆           ┆   ┆           ┆           ┆           ┆           │\n",
       "│ 904911 ┆ Ginkgo     ┆ 0.0        ┆ 0         ┆ … ┆ null      ┆ fr        ┆ Ginkgo    ┆ 0.6       │\n",
       "└────────┴────────────┴────────────┴───────────┴───┴───────────┴───────────┴───────────┴───────────┘"
      ]
     },
     "execution_count": 10,
     "metadata": {},
     "output_type": "execute_result"
    }
   ],
   "source": [
    "data_cleaned"
   ]
  },
  {
   "cell_type": "markdown",
   "id": "4e7bb137-6f7e-4115-987d-141ad9ba0608",
   "metadata": {},
   "source": [
    "## Filter"
   ]
  },
  {
   "cell_type": "code",
   "execution_count": 11,
   "id": "8ebb2097-a5dd-4d79-9f3f-e7d501767f67",
   "metadata": {},
   "outputs": [
    {
     "name": "stdout",
     "output_type": "stream",
     "text": [
      "--- 0.3086822032928467 seconds ---\n"
     ]
    }
   ],
   "source": [
    "total_filter = []\n",
    "for i in range(REPETITIONS): \n",
    "    start_time = time.time()\n",
    "    df_filter = data_cleaned.filter(pl.col(\"budget\") > 550000000)\n",
    "    time_filter = time.time() - start_time\n",
    "    total_filter.append(time_filter)\n",
    "print(\"--- %s seconds ---\" % sum(total_filter))"
   ]
  },
  {
   "cell_type": "code",
   "execution_count": 12,
   "id": "df303fe1-e0c2-46e6-940a-abc2f6e00d87",
   "metadata": {},
   "outputs": [
    {
     "data": {
      "text/html": [
       "<div><style>\n",
       ".dataframe > thead > tr,\n",
       ".dataframe > tbody > tr {\n",
       "  text-align: right;\n",
       "  white-space: pre-wrap;\n",
       "}\n",
       "</style>\n",
       "<small>shape: (2, 14)</small><table border=\"1\" class=\"dataframe\"><thead><tr><th>id</th><th>title</th><th>vote_average</th><th>vote_count</th><th>status</th><th>release_date</th><th>revenue</th><th>runtime</th><th>adult</th><th>budget</th><th>imdb_id</th><th>original_language</th><th>original_title</th><th>popularity</th></tr><tr><td>i64</td><td>str</td><td>f64</td><td>i64</td><td>str</td><td>str</td><td>i64</td><td>i64</td><td>bool</td><td>i64</td><td>str</td><td>str</td><td>str</td><td>f64</td></tr></thead><tbody><tr><td>1057999</td><td>&quot;Enea&quot;</td><td>0.0</td><td>0</td><td>&quot;Released&quot;</td><td>&quot;9/21/2023&quot;</td><td>0</td><td>115</td><td>false</td><td>888000000</td><td>&quot;tt27219440&quot;</td><td>&quot;it&quot;</td><td>&quot;Enea&quot;</td><td>4.319</td></tr><tr><td>1224207</td><td>&quot;Adventures in Bora Bora&quot;</td><td>0.0</td><td>0</td><td>&quot;Released&quot;</td><td>&quot;8/23/2023&quot;</td><td>3000000000</td><td>5</td><td>false</td><td>800000000</td><td>null</td><td>&quot;en&quot;</td><td>&quot;Adventures in Bora Bora&quot;</td><td>0.0</td></tr></tbody></table></div>"
      ],
      "text/plain": [
       "shape: (2, 14)\n",
       "┌─────────┬────────────┬───────────┬───────────┬───┬───────────┬───────────┬───────────┬───────────┐\n",
       "│ id      ┆ title      ┆ vote_aver ┆ vote_coun ┆ … ┆ imdb_id   ┆ original_ ┆ original_ ┆ popularit │\n",
       "│ ---     ┆ ---        ┆ age       ┆ t         ┆   ┆ ---       ┆ language  ┆ title     ┆ y         │\n",
       "│ i64     ┆ str        ┆ ---       ┆ ---       ┆   ┆ str       ┆ ---       ┆ ---       ┆ ---       │\n",
       "│         ┆            ┆ f64       ┆ i64       ┆   ┆           ┆ str       ┆ str       ┆ f64       │\n",
       "╞═════════╪════════════╪═══════════╪═══════════╪═══╪═══════════╪═══════════╪═══════════╪═══════════╡\n",
       "│ 1057999 ┆ Enea       ┆ 0.0       ┆ 0         ┆ … ┆ tt2721944 ┆ it        ┆ Enea      ┆ 4.319     │\n",
       "│         ┆            ┆           ┆           ┆   ┆ 0         ┆           ┆           ┆           │\n",
       "│ 1224207 ┆ Adventures ┆ 0.0       ┆ 0         ┆ … ┆ null      ┆ en        ┆ Adventure ┆ 0.0       │\n",
       "│         ┆ in Bora    ┆           ┆           ┆   ┆           ┆           ┆ s in Bora ┆           │\n",
       "│         ┆ Bora       ┆           ┆           ┆   ┆           ┆           ┆ Bora      ┆           │\n",
       "└─────────┴────────────┴───────────┴───────────┴───┴───────────┴───────────┴───────────┴───────────┘"
      ]
     },
     "execution_count": 12,
     "metadata": {},
     "output_type": "execute_result"
    }
   ],
   "source": [
    "df_filter"
   ]
  },
  {
   "cell_type": "markdown",
   "id": "3ecf13a1-10fe-4b7a-ac29-7d8a8a4b6698",
   "metadata": {},
   "source": [
    "## Aggregation"
   ]
  },
  {
   "cell_type": "code",
   "execution_count": 13,
   "id": "1cab5609-b62f-4d34-b6b4-c59c5d4f95f1",
   "metadata": {},
   "outputs": [
    {
     "name": "stdout",
     "output_type": "stream",
     "text": [
      "--- 0.46825623512268066 seconds ---\n"
     ]
    }
   ],
   "source": [
    "total_agg = []\n",
    "for i in range(REPETITIONS):\n",
    "    start_time = time.time()\n",
    "    df_agg = data_cleaned.group_by([\"status\"]).agg(pl.col(\"runtime\").mean())\n",
    "    time_agg = time.time() - start_time\n",
    "    total_agg.append(time_agg)\n",
    "print(\"--- %s seconds ---\" % sum(total_agg))"
   ]
  },
  {
   "cell_type": "code",
   "execution_count": 14,
   "id": "f57d9858-9deb-4234-b3ae-9588fb56ddb6",
   "metadata": {},
   "outputs": [
    {
     "data": {
      "text/html": [
       "<div><style>\n",
       ".dataframe > thead > tr,\n",
       ".dataframe > tbody > tr {\n",
       "  text-align: right;\n",
       "  white-space: pre-wrap;\n",
       "}\n",
       "</style>\n",
       "<small>shape: (6, 2)</small><table border=\"1\" class=\"dataframe\"><thead><tr><th>status</th><th>runtime</th></tr><tr><td>str</td><td>f64</td></tr></thead><tbody><tr><td>&quot;Post Production&quot;</td><td>60.983746</td></tr><tr><td>&quot;Planned&quot;</td><td>59.428302</td></tr><tr><td>&quot;Released&quot;</td><td>68.709632</td></tr><tr><td>&quot;Canceled&quot;</td><td>45.2</td></tr><tr><td>&quot;Rumored&quot;</td><td>50.846154</td></tr><tr><td>&quot;In Production&quot;</td><td>48.70313</td></tr></tbody></table></div>"
      ],
      "text/plain": [
       "shape: (6, 2)\n",
       "┌─────────────────┬───────────┐\n",
       "│ status          ┆ runtime   │\n",
       "│ ---             ┆ ---       │\n",
       "│ str             ┆ f64       │\n",
       "╞═════════════════╪═══════════╡\n",
       "│ Post Production ┆ 60.983746 │\n",
       "│ Planned         ┆ 59.428302 │\n",
       "│ Released        ┆ 68.709632 │\n",
       "│ Canceled        ┆ 45.2      │\n",
       "│ Rumored         ┆ 50.846154 │\n",
       "│ In Production   ┆ 48.70313  │\n",
       "└─────────────────┴───────────┘"
      ]
     },
     "execution_count": 14,
     "metadata": {},
     "output_type": "execute_result"
    }
   ],
   "source": [
    "df_agg"
   ]
  },
  {
   "cell_type": "markdown",
   "id": "a889dadb-b285-4039-8947-9611722bdbde",
   "metadata": {},
   "source": [
    "## Sorting"
   ]
  },
  {
   "cell_type": "code",
   "execution_count": 15,
   "id": "3627c72f-9ef0-4057-b5db-6926caea1513",
   "metadata": {},
   "outputs": [
    {
     "name": "stdout",
     "output_type": "stream",
     "text": [
      "--- 0.9552304744720459 seconds ---\n"
     ]
    }
   ],
   "source": [
    "total_sort = []\n",
    "for i in range(REPETITIONS):\n",
    "    start_time = time.time()\n",
    "    df_sort = data_cleaned.sort([\"revenue\"])\n",
    "    time_sort = time.time() - start_time\n",
    "    total_sort.append(time_sort)\n",
    "print(\"--- %s seconds ---\" % sum(total_sort))"
   ]
  },
  {
   "cell_type": "code",
   "execution_count": 16,
   "id": "3959bbb0-6ef3-4499-9efd-d47ab282dd70",
   "metadata": {},
   "outputs": [
    {
     "data": {
      "text/html": [
       "<div><style>\n",
       ".dataframe > thead > tr,\n",
       ".dataframe > tbody > tr {\n",
       "  text-align: right;\n",
       "  white-space: pre-wrap;\n",
       "}\n",
       "</style>\n",
       "<small>shape: (488_224, 14)</small><table border=\"1\" class=\"dataframe\"><thead><tr><th>id</th><th>title</th><th>vote_average</th><th>vote_count</th><th>status</th><th>release_date</th><th>revenue</th><th>runtime</th><th>adult</th><th>budget</th><th>imdb_id</th><th>original_language</th><th>original_title</th><th>popularity</th></tr><tr><td>i64</td><td>str</td><td>f64</td><td>i64</td><td>str</td><td>str</td><td>i64</td><td>i64</td><td>bool</td><td>i64</td><td>str</td><td>str</td><td>str</td><td>f64</td></tr></thead><tbody><tr><td>405774</td><td>&quot;Bird Box&quot;</td><td>6.854</td><td>9227</td><td>&quot;Released&quot;</td><td>&quot;12/13/2018&quot;</td><td>0</td><td>124</td><td>false</td><td>19800000</td><td>&quot;tt2737304&quot;</td><td>&quot;en&quot;</td><td>&quot;Bird Box&quot;</td><td>27.913</td></tr><tr><td>791373</td><td>&quot;Zack Snyder&#x27;s Justice League&quot;</td><td>8.19</td><td>9202</td><td>&quot;Released&quot;</td><td>&quot;3/18/2021&quot;</td><td>0</td><td>242</td><td>false</td><td>70000000</td><td>&quot;tt12361974&quot;</td><td>&quot;en&quot;</td><td>&quot;Zack Snyder&#x27;s Justice League&quot;</td><td>130.69</td></tr><tr><td>466282</td><td>&quot;To All the Boys I&#x27;ve Loved Bef…</td><td>7.642</td><td>8045</td><td>&quot;Released&quot;</td><td>&quot;8/16/2018&quot;</td><td>0</td><td>100</td><td>false</td><td>0</td><td>&quot;tt3846674&quot;</td><td>&quot;en&quot;</td><td>&quot;To All the Boys I&#x27;ve Loved Bef…</td><td>38.926</td></tr><tr><td>454983</td><td>&quot;The Kissing Booth&quot;</td><td>7.229</td><td>6926</td><td>&quot;Released&quot;</td><td>&quot;5/11/2018&quot;</td><td>0</td><td>105</td><td>false</td><td>0</td><td>&quot;tt3799232&quot;</td><td>&quot;en&quot;</td><td>&quot;The Kissing Booth&quot;</td><td>36.649</td></tr><tr><td>766507</td><td>&quot;Prey&quot;</td><td>7.762</td><td>5821</td><td>&quot;Released&quot;</td><td>&quot;8/2/2022&quot;</td><td>0</td><td>100</td><td>false</td><td>65000000</td><td>&quot;tt11866324&quot;</td><td>&quot;en&quot;</td><td>&quot;Prey&quot;</td><td>154.579</td></tr><tr><td>&hellip;</td><td>&hellip;</td><td>&hellip;</td><td>&hellip;</td><td>&hellip;</td><td>&hellip;</td><td>&hellip;</td><td>&hellip;</td><td>&hellip;</td><td>&hellip;</td><td>&hellip;</td><td>&hellip;</td><td>&hellip;</td><td>&hellip;</td></tr><tr><td>76600</td><td>&quot;Avatar: The Way of Water&quot;</td><td>7.654</td><td>9830</td><td>&quot;Released&quot;</td><td>&quot;12/14/2022&quot;</td><td>2320250281</td><td>192</td><td>false</td><td>460000000</td><td>&quot;tt1630029&quot;</td><td>&quot;en&quot;</td><td>&quot;Avatar: The Way of Water&quot;</td><td>241.285</td></tr><tr><td>299534</td><td>&quot;Avengers: Endgame&quot;</td><td>8.263</td><td>23857</td><td>&quot;Released&quot;</td><td>&quot;4/24/2019&quot;</td><td>2800000000</td><td>181</td><td>false</td><td>356000000</td><td>&quot;tt4154796&quot;</td><td>&quot;en&quot;</td><td>&quot;Avengers: Endgame&quot;</td><td>91.756</td></tr><tr><td>19995</td><td>&quot;Avatar&quot;</td><td>7.573</td><td>29815</td><td>&quot;Released&quot;</td><td>&quot;12/15/2009&quot;</td><td>2923706026</td><td>162</td><td>false</td><td>237000000</td><td>&quot;tt0499549&quot;</td><td>&quot;en&quot;</td><td>&quot;Avatar&quot;</td><td>79.932</td></tr><tr><td>1270893</td><td>&quot;TikTok Rizz Party&quot;</td><td>10.0</td><td>1</td><td>&quot;Released&quot;</td><td>&quot;4/1/2024&quot;</td><td>3000000000</td><td>180</td><td>false</td><td>250000000</td><td>null</td><td>&quot;en&quot;</td><td>&quot;TikTok Rizz Party&quot;</td><td>0.0</td></tr><tr><td>1224207</td><td>&quot;Adventures in Bora Bora&quot;</td><td>0.0</td><td>0</td><td>&quot;Released&quot;</td><td>&quot;8/23/2023&quot;</td><td>3000000000</td><td>5</td><td>false</td><td>800000000</td><td>null</td><td>&quot;en&quot;</td><td>&quot;Adventures in Bora Bora&quot;</td><td>0.0</td></tr></tbody></table></div>"
      ],
      "text/plain": [
       "shape: (488_224, 14)\n",
       "┌─────────┬────────────┬───────────┬───────────┬───┬───────────┬───────────┬───────────┬───────────┐\n",
       "│ id      ┆ title      ┆ vote_aver ┆ vote_coun ┆ … ┆ imdb_id   ┆ original_ ┆ original_ ┆ popularit │\n",
       "│ ---     ┆ ---        ┆ age       ┆ t         ┆   ┆ ---       ┆ language  ┆ title     ┆ y         │\n",
       "│ i64     ┆ str        ┆ ---       ┆ ---       ┆   ┆ str       ┆ ---       ┆ ---       ┆ ---       │\n",
       "│         ┆            ┆ f64       ┆ i64       ┆   ┆           ┆ str       ┆ str       ┆ f64       │\n",
       "╞═════════╪════════════╪═══════════╪═══════════╪═══╪═══════════╪═══════════╪═══════════╪═══════════╡\n",
       "│ 405774  ┆ Bird Box   ┆ 6.854     ┆ 9227      ┆ … ┆ tt2737304 ┆ en        ┆ Bird Box  ┆ 27.913    │\n",
       "│ 791373  ┆ Zack       ┆ 8.19      ┆ 9202      ┆ … ┆ tt1236197 ┆ en        ┆ Zack      ┆ 130.69    │\n",
       "│         ┆ Snyder's   ┆           ┆           ┆   ┆ 4         ┆           ┆ Snyder's  ┆           │\n",
       "│         ┆ Justice    ┆           ┆           ┆   ┆           ┆           ┆ Justice   ┆           │\n",
       "│         ┆ League     ┆           ┆           ┆   ┆           ┆           ┆ League    ┆           │\n",
       "│ 466282  ┆ To All the ┆ 7.642     ┆ 8045      ┆ … ┆ tt3846674 ┆ en        ┆ To All    ┆ 38.926    │\n",
       "│         ┆ Boys I've  ┆           ┆           ┆   ┆           ┆           ┆ the Boys  ┆           │\n",
       "│         ┆ Loved Bef… ┆           ┆           ┆   ┆           ┆           ┆ I've      ┆           │\n",
       "│         ┆            ┆           ┆           ┆   ┆           ┆           ┆ Loved     ┆           │\n",
       "│         ┆            ┆           ┆           ┆   ┆           ┆           ┆ Bef…      ┆           │\n",
       "│ 454983  ┆ The        ┆ 7.229     ┆ 6926      ┆ … ┆ tt3799232 ┆ en        ┆ The       ┆ 36.649    │\n",
       "│         ┆ Kissing    ┆           ┆           ┆   ┆           ┆           ┆ Kissing   ┆           │\n",
       "│         ┆ Booth      ┆           ┆           ┆   ┆           ┆           ┆ Booth     ┆           │\n",
       "│ 766507  ┆ Prey       ┆ 7.762     ┆ 5821      ┆ … ┆ tt1186632 ┆ en        ┆ Prey      ┆ 154.579   │\n",
       "│         ┆            ┆           ┆           ┆   ┆ 4         ┆           ┆           ┆           │\n",
       "│ …       ┆ …          ┆ …         ┆ …         ┆ … ┆ …         ┆ …         ┆ …         ┆ …         │\n",
       "│ 76600   ┆ Avatar:    ┆ 7.654     ┆ 9830      ┆ … ┆ tt1630029 ┆ en        ┆ Avatar:   ┆ 241.285   │\n",
       "│         ┆ The Way of ┆           ┆           ┆   ┆           ┆           ┆ The Way   ┆           │\n",
       "│         ┆ Water      ┆           ┆           ┆   ┆           ┆           ┆ of Water  ┆           │\n",
       "│ 299534  ┆ Avengers:  ┆ 8.263     ┆ 23857     ┆ … ┆ tt4154796 ┆ en        ┆ Avengers: ┆ 91.756    │\n",
       "│         ┆ Endgame    ┆           ┆           ┆   ┆           ┆           ┆ Endgame   ┆           │\n",
       "│ 19995   ┆ Avatar     ┆ 7.573     ┆ 29815     ┆ … ┆ tt0499549 ┆ en        ┆ Avatar    ┆ 79.932    │\n",
       "│ 1270893 ┆ TikTok     ┆ 10.0      ┆ 1         ┆ … ┆ null      ┆ en        ┆ TikTok    ┆ 0.0       │\n",
       "│         ┆ Rizz Party ┆           ┆           ┆   ┆           ┆           ┆ Rizz      ┆           │\n",
       "│         ┆            ┆           ┆           ┆   ┆           ┆           ┆ Party     ┆           │\n",
       "│ 1224207 ┆ Adventures ┆ 0.0       ┆ 0         ┆ … ┆ null      ┆ en        ┆ Adventure ┆ 0.0       │\n",
       "│         ┆ in Bora    ┆           ┆           ┆   ┆           ┆           ┆ s in Bora ┆           │\n",
       "│         ┆ Bora       ┆           ┆           ┆   ┆           ┆           ┆ Bora      ┆           │\n",
       "└─────────┴────────────┴───────────┴───────────┴───┴───────────┴───────────┴───────────┴───────────┘"
      ]
     },
     "execution_count": 16,
     "metadata": {},
     "output_type": "execute_result"
    }
   ],
   "source": [
    "df_sort"
   ]
  },
  {
   "cell_type": "markdown",
   "id": "d0b84037-a0da-4102-8c87-f40a06264b8c",
   "metadata": {},
   "source": [
    "## Complex Execution"
   ]
  },
  {
   "cell_type": "code",
   "execution_count": 17,
   "id": "d2dc65ea-45cd-4e51-a043-2127f8d3b83e",
   "metadata": {},
   "outputs": [
    {
     "name": "stdout",
     "output_type": "stream",
     "text": [
      "--- 4.0509421825408936 seconds ---\n"
     ]
    }
   ],
   "source": [
    "total_complex = []\n",
    "for i in range(REPETITIONS):\n",
    "    start_time = time.time()\n",
    "    revenue_max_non_en_movie_2024 = (\n",
    "        data_cleaned.with_columns(\n",
    "            (pl.col(\"release_date\").str.to_date(\"%m/%d/%Y\", strict=False)).alias(\"release_date\")\n",
    "        )\n",
    "        .filter(\n",
    "            (pl.col(\"release_date\").is_between(date(2024,1,1),date(2024,12,31)))\n",
    "        )\n",
    "        .group_by([\"original_language\"]).agg(pl.col(\"revenue\").max()).filter((pl.col(\"original_language\") != \"en\"))   \n",
    "    )\n",
    "    time_complex = time.time() - start_time\n",
    "    total_complex.append(time_complex)\n",
    "print(\"--- %s seconds ---\" % sum(total_complex))"
   ]
  },
  {
   "cell_type": "code",
   "execution_count": 18,
   "id": "0a9c9b9e-9f89-412a-bb34-51ec645bb7db",
   "metadata": {},
   "outputs": [
    {
     "data": {
      "text/html": [
       "<div><style>\n",
       ".dataframe > thead > tr,\n",
       ".dataframe > tbody > tr {\n",
       "  text-align: right;\n",
       "  white-space: pre-wrap;\n",
       "}\n",
       "</style>\n",
       "<small>shape: (96, 2)</small><table border=\"1\" class=\"dataframe\"><thead><tr><th>original_language</th><th>revenue</th></tr><tr><td>str</td><td>i64</td></tr></thead><tbody><tr><td>&quot;te&quot;</td><td>0</td></tr><tr><td>&quot;ne&quot;</td><td>0</td></tr><tr><td>&quot;cy&quot;</td><td>0</td></tr><tr><td>&quot;or&quot;</td><td>0</td></tr><tr><td>&quot;de&quot;</td><td>10</td></tr><tr><td>&hellip;</td><td>&hellip;</td></tr><tr><td>&quot;ky&quot;</td><td>0</td></tr><tr><td>&quot;ko&quot;</td><td>0</td></tr><tr><td>&quot;sn&quot;</td><td>0</td></tr><tr><td>&quot;da&quot;</td><td>0</td></tr><tr><td>&quot;as&quot;</td><td>0</td></tr></tbody></table></div>"
      ],
      "text/plain": [
       "shape: (96, 2)\n",
       "┌───────────────────┬─────────┐\n",
       "│ original_language ┆ revenue │\n",
       "│ ---               ┆ ---     │\n",
       "│ str               ┆ i64     │\n",
       "╞═══════════════════╪═════════╡\n",
       "│ te                ┆ 0       │\n",
       "│ ne                ┆ 0       │\n",
       "│ cy                ┆ 0       │\n",
       "│ or                ┆ 0       │\n",
       "│ de                ┆ 10      │\n",
       "│ …                 ┆ …       │\n",
       "│ ky                ┆ 0       │\n",
       "│ ko                ┆ 0       │\n",
       "│ sn                ┆ 0       │\n",
       "│ da                ┆ 0       │\n",
       "│ as                ┆ 0       │\n",
       "└───────────────────┴─────────┘"
      ]
     },
     "execution_count": 18,
     "metadata": {},
     "output_type": "execute_result"
    }
   ],
   "source": [
    "revenue_max_non_en_movie_2024"
   ]
  },
  {
   "cell_type": "markdown",
   "id": "cd6c6949-e7f6-4f71-ba5d-31358ebd6635",
   "metadata": {},
   "source": [
    "## Saving files"
   ]
  },
  {
   "cell_type": "code",
   "execution_count": 19,
   "id": "89e4f2af-1f00-447b-80f5-a9c720aa95b5",
   "metadata": {},
   "outputs": [],
   "source": [
    "filename = \"Polars.csv\"\n",
    "data_list = [\"sum\",\"avg\",\"min\",\"max\"]\n",
    "write_list = []\n",
    "for x in data_list:\n",
    "    data = {}\n",
    "    fun = sum if x == \"sum\" else statistics.mean if x == \"avg\" else min if x == \"min\" else max\n",
    "    data[\"type\"] = x\n",
    "    data[\"read_file\"] = fun(total_read)\n",
    "    data[\"memory_size_read\"] = df.estimated_size()\n",
    "    data[\"select\"] = fun(total_select)\n",
    "    data[\"memory_size_select\"] = data_cleaned.estimated_size()\n",
    "    data[\"filter\"] = fun(total_filter)\n",
    "    data[\"memory_size_filter\"] = df_filter.estimated_size()\n",
    "    data[\"agg\"] = fun(total_agg)\n",
    "    data[\"memory_size_agg\"] = df_agg.estimated_size()\n",
    "    data[\"sort\"] = fun(total_sort)\n",
    "    data[\"memory_size_sort\"] = df_sort.estimated_size()\n",
    "    data[\"complex\"] = fun(total_complex)\n",
    "    data[\"memory_size_complex\"] = revenue_max_non_en_movie_2024.estimated_size()\n",
    "    data[\"repetitions\"] = REPETITIONS\n",
    "    write_list.append(data)\n",
    "write_csv(filename,write_list)"
   ]
  },
  {
   "cell_type": "code",
   "execution_count": null,
   "id": "085d8294-2067-4fc2-af8a-d4fd4f956ff0",
   "metadata": {},
   "outputs": [],
   "source": []
  }
 ],
 "metadata": {
  "kernelspec": {
   "display_name": "Python 3 (ipykernel)",
   "language": "python",
   "name": "python3"
  },
  "language_info": {
   "codemirror_mode": {
    "name": "ipython",
    "version": 3
   },
   "file_extension": ".py",
   "mimetype": "text/x-python",
   "name": "python",
   "nbconvert_exporter": "python",
   "pygments_lexer": "ipython3",
   "version": "3.12.8"
  }
 },
 "nbformat": 4,
 "nbformat_minor": 5
}
