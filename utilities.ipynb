{
 "cells": [
  {
   "cell_type": "code",
   "execution_count": null,
   "id": "356a1f01-ec89-4091-b796-44209b1f50a3",
   "metadata": {},
   "outputs": [],
   "source": [
    "!pip install pandas==2.2.3"
   ]
  },
  {
   "cell_type": "code",
   "execution_count": null,
   "id": "802af749-041c-48d4-a0ca-db44ecb8bd8d",
   "metadata": {},
   "outputs": [],
   "source": [
    "import pandas as pd"
   ]
  },
  {
   "cell_type": "code",
   "execution_count": null,
   "id": "825616c3-79eb-420c-86b8-bde637e6dab2",
   "metadata": {},
   "outputs": [],
   "source": [
    "REPETITIONS = 100"
   ]
  },
  {
   "cell_type": "code",
   "execution_count": null,
   "id": "008193a4-5ac9-45b3-9d94-8ee4a02a0cf5",
   "metadata": {},
   "outputs": [],
   "source": [
    "def write_csv(filename,data):\n",
    "    df_write = pd.DataFrame(data, index=range(len(data)))\n",
    "    try:\n",
    "        df_write.to_csv(filename, mode='x')\n",
    "    except FileExistsError:\n",
    "        df_write.to_csv(filename)"
   ]
  }
 ],
 "metadata": {
  "kernelspec": {
   "display_name": "Python 3 (ipykernel)",
   "language": "python",
   "name": "python3"
  },
  "language_info": {
   "codemirror_mode": {
    "name": "ipython",
    "version": 3
   },
   "file_extension": ".py",
   "mimetype": "text/x-python",
   "name": "python",
   "nbconvert_exporter": "python",
   "pygments_lexer": "ipython3",
   "version": "3.12.8"
  }
 },
 "nbformat": 4,
 "nbformat_minor": 5
}
